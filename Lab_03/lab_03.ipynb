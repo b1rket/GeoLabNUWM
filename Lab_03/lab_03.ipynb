{
 "cells": [
  {
   "cell_type": "code",
   "execution_count": 1,
   "metadata": {},
   "outputs": [],
   "source": [
    "import geopandas as gpd\n",
    "import shapely\n",
    "import seaborn"
   ]
  },
  {
   "cell_type": "code",
   "execution_count": 2,
   "metadata": {},
   "outputs": [
    {
     "name": "stdout",
     "output_type": "stream",
     "text": [
      "CRS:  EPSG:4326\n",
      "Number of records:  1000\n"
     ]
    }
   ],
   "source": [
    "import geopandas as gpd\n",
    "import seaborn as sns\n",
    "from shapely.geometry import Polygon\n",
    "\n",
    "data = gpd.read_file(\"../example_dataset.geojson\")\n",
    "\n",
    "print(\"CRS: \", data.crs)\n",
    "print(\"Number of records: \", data.shape[0])"
   ]
  },
  {
   "cell_type": "code",
   "execution_count": 3,
   "metadata": {},
   "outputs": [
    {
     "name": "stdout",
     "output_type": "stream",
     "text": [
      "Index(['crop_name', 'sowing_date', 'actual_yield', 'field_id',\n",
      "       'avg_temperature', 'avg_rainfall', 'model_yield', 'geometry'],\n",
      "      dtype='object')\n",
      "  crop_name sowing_date  actual_yield       field_id  avg_temperature   \n",
      "0      maiz  2016-04-10        7600.0   MS_VN_03_407        11.547103  \\\n",
      "1      maiz  2016-04-11        7900.0   MS_VN_03_405        11.547103   \n",
      "2      maiz  2016-04-12        7900.0  PA_KM_05_1802        12.190627   \n",
      "3      maiz  2016-04-12        9000.0   MS_VN_03_410        11.756031   \n",
      "4      maiz  2016-04-12       12100.0  KI_VN_10_0308        11.584644   \n",
      "5      maiz  2016-04-13        7000.0  PA_KM_05_1803        12.190627   \n",
      "6      maiz  2016-04-13        6400.0  PA_KM_05_1801        12.190627   \n",
      "7      maiz  2016-04-13        7300.0   MS_VN_03_409        11.756031   \n",
      "8      maiz  2016-04-13       11700.0  KI_VN_10_0302        11.584644   \n",
      "9      maiz  2016-04-14        7100.0  PA_KM_05_1804        12.190627   \n",
      "\n",
      "   avg_rainfall  model_yield   \n",
      "0    572.463009       8903.0  \\\n",
      "1    574.831401       8814.0   \n",
      "2    637.703767       8317.0   \n",
      "3    588.947718       8878.0   \n",
      "4    595.795305       8996.0   \n",
      "5    640.868072       8184.0   \n",
      "6    640.868072       8184.0   \n",
      "7    597.970930       8965.0   \n",
      "8    598.156220       8875.0   \n",
      "9    646.445618       8211.0   \n",
      "\n",
      "                                            geometry  \n",
      "0  MULTIPOLYGON (((28.16611 49.21513, 28.16624 49...  \n",
      "1  MULTIPOLYGON (((28.16966 49.19427, 28.16936 49...  \n",
      "2  MULTIPOLYGON (((27.30659 48.87534, 27.30674 48...  \n",
      "3  MULTIPOLYGON (((28.11488 49.21303, 28.11503 49...  \n",
      "4  MULTIPOLYGON (((28.86633 49.22147, 28.86651 49...  \n",
      "5  MULTIPOLYGON (((27.28864 48.87534, 27.28873 48...  \n",
      "6  MULTIPOLYGON (((27.29514 48.87655, 27.29317 48...  \n",
      "7  MULTIPOLYGON (((28.12418 49.21158, 28.12390 49...  \n",
      "8  MULTIPOLYGON (((28.90721 49.23975, 28.90723 49...  \n",
      "9  MULTIPOLYGON (((27.28238 48.87403, 27.28251 48...  \n"
     ]
    }
   ],
   "source": [
    "import pandas as pd\n",
    "\n",
    "# read dataset into a pandas dataframe\n",
    "data = gpd.read_file(\"../example_dataset.geojson\")\n",
    "\n",
    "# get list of columns\n",
    "print(data.columns)\n",
    "\n",
    "# display first 10 rows\n",
    "print(data.head(10))"
   ]
  },
  {
   "cell_type": "code",
   "execution_count": 4,
   "metadata": {},
   "outputs": [
    {
     "name": "stdout",
     "output_type": "stream",
     "text": [
      "number of cultures:  3\n",
      "crop_name\n",
      "maiz    785\n",
      "soy     209\n",
      "sun       6\n",
      "Name: count, dtype: int64\n"
     ]
    }
   ],
   "source": [
    "import pandas as pd\n",
    "\n",
    "# read dataset\n",
    "data = gpd.read_file(\"../example_dataset.geojson\")\n",
    "\n",
    "# define the number of cultures and the number of records with each culture\n",
    "culture_counts = data['crop_name'].value_counts()\n",
    "\n",
    "# result\n",
    "print(\"number of cultures: \", len(culture_counts))\n",
    "print(culture_counts)"
   ]
  },
  {
   "cell_type": "code",
   "execution_count": 5,
   "metadata": {},
   "outputs": [
    {
     "name": "stdout",
     "output_type": "stream",
     "text": [
      "Maximum actual yield: 14500.00 (field MS_VN_03_205, crop maiz)\n",
      "Minimum actual yield: 900.00 (field MS_VN_02_502, crop soy)\n"
     ]
    }
   ],
   "source": [
    "# Determine maximum and minimum actual yield\n",
    "max_yield = data['actual_yield'].max()\n",
    "min_yield = data['actual_yield'].min()\n",
    "\n",
    "# Find fields and crops for maximum and minimum yields\n",
    "max_yield_row = data[data['actual_yield'] == max_yield]\n",
    "min_yield_row = data[data['actual_yield'] == min_yield]\n",
    "\n",
    "# Output results\n",
    "print(f\"Maximum actual yield: {max_yield:.2f} (field {max_yield_row['field_id'].values[0]}, crop {max_yield_row['crop_name'].values[0]})\")\n",
    "print(f\"Minimum actual yield: {min_yield:.2f} (field {min_yield_row['field_id'].values[0]}, crop {min_yield_row['crop_name'].values[0]})\")"
   ]
  }
 ],
 "metadata": {
  "kernelspec": {
   "display_name": "Python 3",
   "language": "python",
   "name": "python3"
  },
  "language_info": {
   "codemirror_mode": {
    "name": "ipython",
    "version": 3
   },
   "file_extension": ".py",
   "mimetype": "text/x-python",
   "name": "python",
   "nbconvert_exporter": "python",
   "pygments_lexer": "ipython3",
   "version": "3.11.3"
  },
  "orig_nbformat": 4
 },
 "nbformat": 4,
 "nbformat_minor": 2
}
