{
 "cells": [
  {
   "attachments": {},
   "cell_type": "markdown",
   "metadata": {},
   "source": [
    "#Виконано за сприяння Рожанчука Богдана\n",
    "#https://github.com/BogdanJeN/Geo/tree/main/Lab_07"
   ]
  },
  {
   "cell_type": "code",
   "execution_count": 1,
   "metadata": {},
   "outputs": [],
   "source": [
    "import numpy as np\n",
    "import rasterio as rastr\n",
    "import matplotlib.pyplot as plt\n",
    "from osgeo import gdal\n",
    "from osgeo import ogr\n",
    "from osgeo import osr\n",
    "from osgeo import gdal_array\n",
    "from osgeo import gdalconst"
   ]
  },
  {
   "cell_type": "code",
   "execution_count": 2,
   "metadata": {},
   "outputs": [],
   "source": [
    "import json\n",
    "\n",
    "with open('../field_polygons.geojson', 'r') as f:\n",
    "    data = json.load(f)\n",
    "\n",
    "for feature in data['features']:\n",
    "    index = feature['properties']['id'] - 1\n",
    "    name = feature['properties']['Name']\n",
    "    feature['properties']['Name'] = f'{name}_{index}'\n",
    "\n",
    "with open('fields_updated.geojson', 'w') as f:\n",
    "    json.dump(data, f)"
   ]
  },
  {
   "cell_type": "code",
   "execution_count": 3,
   "metadata": {},
   "outputs": [
    {
     "name": "stdout",
     "output_type": "stream",
     "text": [
      "            Name\n",
      "0         Pin4_0\n",
      "1        Pin17_1\n",
      "2    Shev7-8-9_2\n",
      "3       Shev10_3\n",
      "4          Tr5_4\n",
      "5        Shev6_5\n",
      "6          Tr4_6\n",
      "7          Tr3_7\n",
      "8          Tr2_8\n",
      "9         Tr10_9\n",
      "10        Tr9_10\n",
      "11      Shev4_11\n",
      "12        Tr1_12\n",
      "13        Tr2_13\n",
      "14     Yatz50_14\n",
      "15  Yatz220/1_15\n",
      "16  Yatz220/2_16\n",
      "17     Yatz36_17\n",
      "18     Yatz60_17\n",
      "19     Yatz45_18\n",
      "20     Yatz44_20\n",
      "21        Ks8_21\n",
      "22       Pin9_22\n",
      "23        Ks1_23\n",
      "24        Ks5_24\n",
      "25     Pin9/1_26\n",
      "26      pin10_26\n",
      "27      Shev3_28\n",
      "28      Shev2_29\n",
      "29      Shev1_30\n",
      "30       Ks11_31\n",
      "31        Ks6_31\n",
      "32        Ks7_33\n",
      "33        Tr6_35\n",
      "34       Tr10_35\n",
      "35        Tr8_37\n",
      "36        Tr8_37\n",
      "37        Tr7_38\n",
      "38      Tr7/1_39\n",
      "39        Ls3_40\n",
      "40        Ks2_41\n",
      "41       Ks15_41\n",
      "42       Ks12_81\n",
      "43       Ks13_82\n"
     ]
    }
   ],
   "source": [
    "import geopandas as gpd\n",
    "\n",
    "gdf = gpd.read_file('../Lab_07/fields_updated.geojson')\n",
    "\n",
    "print(gdf[['Name']])"
   ]
  },
  {
   "cell_type": "code",
   "execution_count": 4,
   "metadata": {},
   "outputs": [
    {
     "name": "stdout",
     "output_type": "stream",
     "text": [
      "Number of files with .tif extension: 68\n"
     ]
    }
   ],
   "source": [
    "import glob\n",
    "\n",
    "folder_path = '../spatial_data/' \n",
    "pattern = '**/*.tif'\n",
    "\n",
    "files = glob.glob(f'{folder_path}/{pattern}', recursive=True)\n",
    "\n",
    "print(f'Number of files with .tif extension: {len(files)}')"
   ]
  },
  {
   "cell_type": "code",
   "execution_count": 5,
   "metadata": {},
   "outputs": [],
   "source": [
    "import os\n",
    "import geopandas as gpd\n",
    "\n",
    "fields = gpd.read_file(\"../Lab_07/fields_updated.geojson\")\n",
    "\n",
    "name_column = fields[\"Name\"]\n",
    "\n",
    "os.makedirs(\"resampled\", exist_ok=True)\n",
    "\n",
    "for name in name_column:\n",
    "    entry_dir = os.path.join(\"resampled\", name)\n",
    "    os.makedirs(entry_dir, exist_ok=True)"
   ]
  },
  {
   "cell_type": "code",
   "execution_count": 6,
   "metadata": {},
   "outputs": [],
   "source": [
    "import os\n",
    "import geopandas as gpd\n",
    "import rasterio as rastr\n",
    "from rasterio.features import geometry_mask\n",
    "from rasterio import mask as msk\n",
    "\n",
    "fields = gpd.read_file(\"../Lab_07/fields_updated.geojson\")\n",
    "\n",
    "spatial_data = rastr.open(\"../spatial_data/201504022343_179D/29.566633136000007_49.434589403000004_31.185382877000006_50.486672568.tif\")\n",
    "\n",
    "\n",
    "for index, row in fields.iterrows():\n",
    "    name = row[\"Name\"] \n",
    "    geom = row[\"geometry\"] \n",
    "    \n",
    "    entry_dir = os.path.join(\"resampled\", name)\n",
    "    \n",
    "    data, transform = rastr.mask.mask(spatial_data, [geom], crop=True)\n",
    "    \n",
    "    meta = spatial_data.meta.copy()\n",
    "    \n",
    "    meta.update({\"driver\": \"GTiff\",\n",
    "                 \"height\": data.shape[1],\n",
    "                 \"width\": data.shape[2],\n",
    "                 \"transform\": transform})\n",
    "\n",
    "    os.makedirs(entry_dir, exist_ok=True)\n",
    "    \n",
    "    with rastr.open(os.path.join(entry_dir, \"example.tif\"), \"w\", **meta) as dst:\n",
    "        dst.write(data)"
   ]
  },
  {
   "attachments": {},
   "cell_type": "markdown",
   "metadata": {},
   "source": [
    "Результат Виконання."
   ]
  },
  {
   "attachments": {},
   "cell_type": "markdown",
   "metadata": {},
   "source": [
    "```{\"type\": \"FeatureCollection\", \"name\": \"fields_wsg84\", \"crs\": {\"type\": \"name\", \"properties\": {\"name\": \"urn:ogc:def:crs:OGC:1.3:CRS84\"}}, \"features\": [{\"type\": \"Feature\", \"properties\": {\"id\": 1, \"Name\": \"Pin4_0\"}, \"geometry\": {\"type\": \"MultiPolygon\", \"coordinates\": [[[[30.174112718865484, 49.99640520439303], [30.177051214311422, 50.001295984584175], [30.193489148551734, 49.99510707973654], [30.192885666074687, 49.99335231760143], [30.190434598783277, 49.98909048582229], [30.186915831724775, 49.99101850412295], [30.185968828453095, 49.99021865451887], [30.17709299386753, 49.99532194416891], [30.174112718865484, 49.99640520439303]]]]}}```\n"
   ]
  }
 ],
 "metadata": {
  "kernelspec": {
   "display_name": "Python 3",
   "language": "python",
   "name": "python3"
  },
  "language_info": {
   "codemirror_mode": {
    "name": "ipython",
    "version": 3
   },
   "file_extension": ".py",
   "mimetype": "text/x-python",
   "name": "python",
   "nbconvert_exporter": "python",
   "pygments_lexer": "ipython3",
   "version": "3.11.3"
  },
  "orig_nbformat": 4
 },
 "nbformat": 4,
 "nbformat_minor": 2
}
