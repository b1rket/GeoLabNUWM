{
 "cells": [
  {
   "cell_type": "code",
   "execution_count": 6,
   "metadata": {},
   "outputs": [
    {
     "name": "stdout",
     "output_type": "stream",
     "text": [
      " * Serving Flask app '__main__'\n",
      " * Debug mode: off\n"
     ]
    },
    {
     "name": "stderr",
     "output_type": "stream",
     "text": [
      "WARNING: This is a development server. Do not use it in a production deployment. Use a production WSGI server instead.\n",
      " * Running on http://127.0.0.1:5000\n",
      "Press CTRL+C to quit\n",
      "127.0.0.1 - - [04/May/2023 19:05:47] \"GET / HTTP/1.1\" 200 -\n",
      "127.0.0.1 - - [04/May/2023 19:05:54] \"GET /get_json/test_field_data HTTP/1.1\" 200 -\n"
     ]
    }
   ],
   "source": [
    "from flask import Flask, jsonify\n",
    "\n",
    "app = Flask(__name__)\n",
    "\t\n",
    "@app.route('/')\n",
    "def hello():\n",
    "    return 'Hello, World!'\n",
    "\n",
    "@app.route('/get_json/<string:filename>', methods=['GET'])\n",
    "def get_json(filename):\n",
    "    try:\n",
    "        with open(filename + '.json', 'r') as file:\n",
    "            json_data = file.read()\n",
    "            return jsonify(json_data)\n",
    "    except FileNotFoundError:\n",
    "        return jsonify({'error': 'File not found'})\n",
    "\n",
    "if __name__ == '__main__':\n",
    "    app.run()"
   ]
  },
  {
   "cell_type": "code",
   "execution_count": 7,
   "metadata": {},
   "outputs": [
    {
     "name": "stdout",
     "output_type": "stream",
     "text": [
      " * Serving Flask app '__main__'\n",
      " * Debug mode: off\n"
     ]
    },
    {
     "name": "stderr",
     "output_type": "stream",
     "text": [
      "WARNING: This is a development server. Do not use it in a production deployment. Use a production WSGI server instead.\n",
      " * Running on http://127.0.0.1:5000\n",
      "Press CTRL+C to quit\n",
      "127.0.0.1 - - [04/May/2023 19:07:02] \"GET /field/Pin4 HTTP/1.1\" 200 -\n",
      "127.0.0.1 - - [04/May/2023 19:07:32] \"GET /field/Pin20 HTTP/1.1\" 200 -\n",
      "127.0.0.1 - - [04/May/2023 19:07:35] \"GET /field/Pin15 HTTP/1.1\" 200 -\n",
      "127.0.0.1 - - [04/May/2023 19:07:39] \"GET /field/Pin17 HTTP/1.1\" 200 -\n"
     ]
    }
   ],
   "source": [
    "from flask import Flask, jsonify\n",
    "import geopandas\n",
    "import json\n",
    "\n",
    "app = Flask(__name__)\n",
    "\t\n",
    "@app.route('/')\n",
    "def hello():\n",
    "    return 'Hello, World!'\n",
    "\n",
    "@app.route('/get_json/<string:filename>', methods=['GET'])\n",
    "def get_json(filename):\n",
    "    try:\n",
    "        with open(filename + '.json', 'r') as file:\n",
    "            json_data = file.read()\n",
    "            return jsonify(json_data)\n",
    "    except FileNotFoundError:\n",
    "        return jsonify({'error': 'File not found'})\n",
    "\n",
    "@app.route('/field/<string:field_name>', methods=['GET'])\n",
    "def get_field(field_name):\n",
    "        field_data = geopandas.read_file(\"../Lab_06/field_data.geojson\")\n",
    "        result = (field_data.loc[field_data['name'] == field_name])\n",
    "        json_result = result.to_json(default=lambda x: x.__geo_interface__)\n",
    "        return jsonify(json_result)   \n",
    "\n",
    "if __name__ == '__main__':\n",
    "    app.run()"
   ]
  }
 ],
 "metadata": {
  "kernelspec": {
   "display_name": "Python 3",
   "language": "python",
   "name": "python3"
  },
  "language_info": {
   "codemirror_mode": {
    "name": "ipython",
    "version": 3
   },
   "file_extension": ".py",
   "mimetype": "text/x-python",
   "name": "python",
   "nbconvert_exporter": "python",
   "pygments_lexer": "ipython3",
   "version": "3.11.3"
  },
  "orig_nbformat": 4
 },
 "nbformat": 4,
 "nbformat_minor": 2
}
